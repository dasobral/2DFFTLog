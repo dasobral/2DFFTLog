{
 "cells": [
  {
   "cell_type": "code",
   "execution_count": 1,
   "metadata": {},
   "outputs": [],
   "source": [
    "import numpy as np\n",
    "from twobessel import *\n",
    "import matplotlib.pyplot as plt\n",
    "import cambPK "
   ]
  },
  {
   "cell_type": "code",
   "execution_count": 2,
   "metadata": {},
   "outputs": [],
   "source": [
    "%run cambPK.py"
   ]
  },
  {
   "cell_type": "code",
   "execution_count": 3,
   "metadata": {},
   "outputs": [
    {
     "data": {
      "text/plain": [
       "array([[1.00000000e-04, 3.40376513e+02],\n",
       "       [1.00040042e-04, 3.40508187e+02],\n",
       "       [1.00080100e-04, 3.40639912e+02],\n",
       "       ...,\n",
       "       [2.99759893e-01, 1.19373312e+03],\n",
       "       [2.99879923e-01, 1.19274716e+03],\n",
       "       [3.00000000e-01, 1.19176309e+03]])"
      ]
     },
     "execution_count": 3,
     "metadata": {},
     "output_type": "execute_result"
    }
   ],
   "source": [
    "cambPK.pk_out"
   ]
  },
  {
   "attachments": {},
   "cell_type": "markdown",
   "metadata": {},
   "source": [
    "# Cosmic variance"
   ]
  },
  {
   "cell_type": "code",
   "execution_count": 4,
   "metadata": {},
   "outputs": [
    {
     "name": "stdout",
     "output_type": "stream",
     "text": [
      "Number of data points: 20000\n"
     ]
    }
   ],
   "source": [
    "k, pk = np.loadtxt('Pkz0.0.dat', usecols=(0, 1), unpack=True)\n",
    "\n",
    "# Get the logk-spacing\n",
    "dlnk = np.log(k[1]/k[0])\n",
    "\n",
    "N = k.size\n",
    "print('Number of data points: '+str(N))\n",
    "\n",
    "ell1 = 0\n",
    "ell2 = 0\n",
    "nu = 1.01\n",
    "\n",
    "# Define the input 'kernel'. It has to be a matri: transform the pk to a diagonal matrix\n",
    "pk1k2 = np.diag(k**3 * pk**2 / dlnk)"
   ]
  },
  {
   "cell_type": "code",
   "execution_count": 5,
   "metadata": {},
   "outputs": [
    {
     "name": "stdout",
     "output_type": "stream",
     "text": [
      "20000 20000\n",
      "(20000, 20000)\n",
      "20000 20000\n"
     ]
    }
   ],
   "source": [
    "# Define the class for spherical Bessel \n",
    "\n",
    "sph_bessel = two_sph_bessel(k, k, pk1k2, nu1=nu, nu2=nu,  N_extrap_low=0, N_extrap_high=0, c_window_width=0.25, N_pad=0)\n",
    "\n",
    "r1, r2, Fr1Fr2 = sph_bessel.two_sph_bessel(ell1, ell2)"
   ]
  },
  {
   "cell_type": "code",
   "execution_count": 6,
   "metadata": {},
   "outputs": [],
   "source": [
    "# Drop results above 200 Mpc/h\n",
    "\n",
    "criterion = r1 <= 200\n",
    "\n",
    "d1 = r1[criterion]\n",
    "d2 = r2[criterion]\n",
    "\n",
    "var_00 = Fr1Fr2[:len(d1), :len(d2)]"
   ]
  },
  {
   "cell_type": "code",
   "execution_count": 7,
   "metadata": {},
   "outputs": [
    {
     "data": {
      "text/plain": [
       "array([  3.33333333,   3.33466806,   3.33600332, ..., 199.82318415,\n",
       "       199.90319706, 199.98324201])"
      ]
     },
     "execution_count": 7,
     "metadata": {},
     "output_type": "execute_result"
    }
   ],
   "source": [
    "d1"
   ]
  },
  {
   "cell_type": "code",
   "execution_count": 8,
   "metadata": {},
   "outputs": [
    {
     "data": {
      "text/plain": [
       "(10228, 10228)"
      ]
     },
     "execution_count": 8,
     "metadata": {},
     "output_type": "execute_result"
    }
   ],
   "source": [
    "np.shape(var_00)"
   ]
  },
  {
   "cell_type": "code",
   "execution_count": 9,
   "metadata": {},
   "outputs": [
    {
     "data": {
      "text/plain": [
       "(20000, 20000)"
      ]
     },
     "execution_count": 9,
     "metadata": {},
     "output_type": "execute_result"
    }
   ],
   "source": [
    "np.shape(Fr1Fr2)"
   ]
  },
  {
   "cell_type": "code",
   "execution_count": 10,
   "metadata": {},
   "outputs": [],
   "source": [
    "from scipy.interpolate import RectBivariateSpline\n",
    "\n",
    "# Create an interpolation function\n",
    "f = RectBivariateSpline(d1, d2, var_00, kx=5, ky=5)\n",
    "\n",
    "# Now you can call f with new r1 and r2 values to get an interpolated Fr1r2 value\n",
    "r1_new = 20.  # replace with your desired r1 value\n",
    "r2_new = 20.  # replace with your desired r2 value\n",
    "Fr1r2_new = f(r1_new, r2_new)"
   ]
  },
  {
   "cell_type": "code",
   "execution_count": 11,
   "metadata": {},
   "outputs": [
    {
     "data": {
      "text/plain": [
       "array([[58305.73490462]])"
      ]
     },
     "execution_count": 11,
     "metadata": {},
     "output_type": "execute_result"
    }
   ],
   "source": [
    "Fr1r2_new"
   ]
  },
  {
   "cell_type": "code",
   "execution_count": 12,
   "metadata": {},
   "outputs": [
    {
     "data": {
      "text/plain": [
       "3.796512122729901"
      ]
     },
     "execution_count": 12,
     "metadata": {},
     "output_type": "execute_result"
    }
   ],
   "source": [
    "d1[325]"
   ]
  },
  {
   "cell_type": "code",
   "execution_count": 13,
   "metadata": {},
   "outputs": [
    {
     "data": {
      "text/plain": [
       "54553.76256953731"
      ]
     },
     "execution_count": 13,
     "metadata": {},
     "output_type": "execute_result"
    }
   ],
   "source": [
    "var_00[325, 325] / (2*np.pi**2)"
   ]
  },
  {
   "cell_type": "code",
   "execution_count": 14,
   "metadata": {},
   "outputs": [
    {
     "data": {
      "text/plain": [
       "array([  4,   8,  12,  16,  20,  24,  28,  32,  36,  40,  44,  48,  52,\n",
       "        56,  60,  64,  68,  72,  76,  80,  84,  88,  92,  96, 100, 104,\n",
       "       108, 112, 116, 120, 124, 128, 132, 136, 140, 144, 148, 152, 156,\n",
       "       160, 164, 168, 172])"
      ]
     },
     "execution_count": 14,
     "metadata": {},
     "output_type": "execute_result"
    }
   ],
   "source": [
    "d = np.arange(4, 175, 4)\n",
    "\n",
    "d"
   ]
  },
  {
   "cell_type": "code",
   "execution_count": 15,
   "metadata": {},
   "outputs": [
    {
     "data": {
      "text/plain": [
       "(array([[2953.80303684]]), array([[49520.81971906]]))"
      ]
     },
     "execution_count": 15,
     "metadata": {},
     "output_type": "execute_result"
    }
   ],
   "source": [
    "f(20, 20) / (2*np.pi**2), f(4,4)/ (2*np.pi**2)"
   ]
  },
  {
   "cell_type": "code",
   "execution_count": 16,
   "metadata": {},
   "outputs": [],
   "source": [
    "var_00_172 = f(d, d)"
   ]
  },
  {
   "cell_type": "code",
   "execution_count": 17,
   "metadata": {},
   "outputs": [
    {
     "data": {
      "text/plain": [
       "(43, 43)"
      ]
     },
     "execution_count": 17,
     "metadata": {},
     "output_type": "execute_result"
    }
   ],
   "source": [
    "np.shape(var_00_172)"
   ]
  },
  {
   "cell_type": "code",
   "execution_count": 18,
   "metadata": {},
   "outputs": [],
   "source": [
    "Omm=0.3111\t \n",
    "Omb=0.0490\t \n",
    "h=0.677\t \n",
    "ns=0.9665\t \n",
    "Acamb=2.105e-09"
   ]
  },
  {
   "cell_type": "code",
   "execution_count": 19,
   "metadata": {},
   "outputs": [
    {
     "data": {
      "text/plain": [
       "(0.1425861519, 0.022458121000000004)"
      ]
     },
     "execution_count": 19,
     "metadata": {},
     "output_type": "execute_result"
    }
   ],
   "source": [
    "Omm*h**2, Omb*h**2"
   ]
  },
  {
   "cell_type": "code",
   "execution_count": 20,
   "metadata": {},
   "outputs": [
    {
     "data": {
      "text/plain": [
       "array([9.77501800e+05, 2.85787638e+05, 1.42179130e+05, 8.71156892e+04,\n",
       "       5.83057349e+04, 4.24992541e+04, 3.17819730e+04, 2.37643427e+04,\n",
       "       1.91014035e+04, 1.54950560e+04, 1.26367106e+04, 1.01213635e+04,\n",
       "       8.57313410e+03, 7.22862155e+03, 6.41987070e+03, 5.61158869e+03,\n",
       "       4.59303434e+03, 4.12393781e+03, 3.57120074e+03, 3.08293323e+03,\n",
       "       2.78425134e+03, 2.41452911e+03, 2.16040067e+03, 2.04300837e+03,\n",
       "       1.83313118e+03, 1.65054371e+03, 1.54245217e+03, 1.39918437e+03,\n",
       "       1.20983094e+03, 1.15514955e+03, 1.08352640e+03, 9.52081858e+02,\n",
       "       9.01328471e+02, 8.63275289e+02, 7.85144590e+02, 7.24065875e+02,\n",
       "       7.07397528e+02, 6.42165185e+02, 5.95306887e+02, 5.80497169e+02,\n",
       "       5.28365469e+02, 5.07894846e+02, 4.73794782e+02])"
      ]
     },
     "execution_count": 20,
     "metadata": {},
     "output_type": "execute_result"
    }
   ],
   "source": [
    "np.diag(var_00_172)"
   ]
  },
  {
   "cell_type": "code",
   "execution_count": 21,
   "metadata": {},
   "outputs": [],
   "source": [
    "varcosmic_mono_ = np.loadtxt('varcosmic_mono_bare.dat', skiprows=3)"
   ]
  },
  {
   "cell_type": "code",
   "execution_count": 22,
   "metadata": {},
   "outputs": [
    {
     "data": {
      "text/plain": [
       "(6679.41, 49520.81971905866)"
      ]
     },
     "execution_count": 22,
     "metadata": {},
     "output_type": "execute_result"
    }
   ],
   "source": [
    "varcosmic_mono_[1,1], var_00_172[0,0]/(2*np.pi**2)"
   ]
  },
  {
   "cell_type": "code",
   "execution_count": 23,
   "metadata": {},
   "outputs": [
    {
     "data": {
      "text/plain": [
       "(array([  0.,   4.,   8.,  12.,  16.,  20.,  24.,  28.,  32.,  36.,  40.,\n",
       "         44.,  48.,  52.,  56.,  60.,  64.,  68.,  72.,  76.,  80.,  84.,\n",
       "         88.,  92.,  96., 100., 104., 108., 112., 116., 120., 124., 128.,\n",
       "        132., 136., 140., 144., 148., 152., 156., 160., 164., 168., 172.]),\n",
       " array([  0.,   4.,   8.,  12.,  16.,  20.,  24.,  28.,  32.,  36.,  40.,\n",
       "         44.,  48.,  52.,  56.,  60.,  64.,  68.,  72.,  76.,  80.,  84.,\n",
       "         88.,  92.,  96., 100., 104., 108., 112., 116., 120., 124., 128.,\n",
       "        132., 136., 140., 144., 148., 152., 156., 160., 164., 168., 172.]))"
      ]
     },
     "execution_count": 23,
     "metadata": {},
     "output_type": "execute_result"
    }
   ],
   "source": [
    "varcosmic_mono_[0,:], varcosmic_mono_[:,0]"
   ]
  },
  {
   "cell_type": "code",
   "execution_count": 24,
   "metadata": {},
   "outputs": [
    {
     "data": {
      "text/plain": [
       "(43, 43)"
      ]
     },
     "execution_count": 24,
     "metadata": {},
     "output_type": "execute_result"
    }
   ],
   "source": [
    "varcosmic_mono = varcosmic_mono_[1:,1:]\n",
    "\n",
    "np.shape(varcosmic_mono)"
   ]
  },
  {
   "cell_type": "code",
   "execution_count": 25,
   "metadata": {},
   "outputs": [
    {
     "data": {
      "text/plain": [
       "[<matplotlib.lines.Line2D at 0x16a12b130>]"
      ]
     },
     "execution_count": 25,
     "metadata": {},
     "output_type": "execute_result"
    },
    {
     "data": {
      "image/png": "[encoded data removed]",
      "text/plain": [
       "<Figure size 640x480 with 1 Axes>"
      ]
     },
     "metadata": {},
     "output_type": "display_data"
    }
   ],
   "source": [
    "plt.plot(d[4:], np.diag(varcosmic_mono[4:, 4:]))\n",
    "plt.plot(d[4:], np.diag(var_00_172[4:, 4:])/(2*np.pi**2))"
   ]
  },
  {
   "cell_type": "code",
   "execution_count": 26,
   "metadata": {},
   "outputs": [
    {
     "data": {
      "text/plain": [
       "[<matplotlib.lines.Line2D at 0x16a203070>]"
      ]
     },
     "execution_count": 26,
     "metadata": {},
     "output_type": "execute_result"
    },
    {
     "data": {
      "image/png": "[encoded data removed]",
      "text/plain": [
       "<Figure size 640x480 with 1 Axes>"
      ]
     },
     "metadata": {},
     "output_type": "display_data"
    }
   ],
   "source": [
    "plt.plot(d[4:], np.abs((np.diag(var_00_172[4:, 4:])/(2*np.pi**2)-np.diag(varcosmic_mono[4:, 4:]))/np.diag(varcosmic_mono[4:, 4:])))"
   ]
  },
  {
   "attachments": {},
   "cell_type": "markdown",
   "metadata": {},
   "source": [
    "# Mixed terms"
   ]
  },
  {
   "cell_type": "code",
   "execution_count": 27,
   "metadata": {},
   "outputs": [
    {
     "name": "stdout",
     "output_type": "stream",
     "text": [
      "Number of data points: 20000\n"
     ]
    }
   ],
   "source": [
    "k, pk = np.loadtxt('Pkz0.0.dat', usecols=(0, 1), unpack=True)\n",
    "\n",
    "# Get the logk-spacing\n",
    "dlnk = np.log(k[1]/k[0])\n",
    "\n",
    "N = k.size\n",
    "print('Number of data points: '+str(N))\n",
    "\n",
    "ell1 = 0\n",
    "ell2 = 0\n",
    "nu = 1.01\n",
    "\n",
    "# Define the input 'kernel'. It has to be a matri: transform the pk to a diagonal matrix\n",
    "pk1k2 = np.diag(k**3 * pk / dlnk)"
   ]
  },
  {
   "cell_type": "code",
   "execution_count": 28,
   "metadata": {},
   "outputs": [
    {
     "name": "stdout",
     "output_type": "stream",
     "text": [
      "20000 20000\n",
      "(20000, 20000)\n",
      "20000 20000\n"
     ]
    }
   ],
   "source": [
    "# Define the class for spherical Bessel \n",
    "\n",
    "sph_bessel = two_sph_bessel(k, k, pk1k2, nu1=nu, nu2=nu,  N_extrap_low=0, N_extrap_high=0, c_window_width=0.25, N_pad=0)\n",
    "\n",
    "r1, r2, Fr1Fr2 = sph_bessel.two_sph_bessel(ell1, ell2)"
   ]
  },
  {
   "cell_type": "code",
   "execution_count": 29,
   "metadata": {},
   "outputs": [],
   "source": [
    "# Drop results above 200 Mpc/h\n",
    "\n",
    "criterion = r1 <= 200\n",
    "\n",
    "d1 = r1[criterion]\n",
    "d2 = r2[criterion]\n",
    "\n",
    "mixvar_00 = Fr1Fr2[:len(d1), :len(d2)]"
   ]
  },
  {
   "cell_type": "code",
   "execution_count": 30,
   "metadata": {},
   "outputs": [
    {
     "data": {
      "text/plain": [
       "(10228, 10228)"
      ]
     },
     "execution_count": 30,
     "metadata": {},
     "output_type": "execute_result"
    }
   ],
   "source": [
    "np.shape(mixvar_00)"
   ]
  },
  {
   "cell_type": "code",
   "execution_count": 31,
   "metadata": {},
   "outputs": [
    {
     "data": {
      "text/plain": [
       "(20000, 20000)"
      ]
     },
     "execution_count": 31,
     "metadata": {},
     "output_type": "execute_result"
    }
   ],
   "source": [
    "np.shape(Fr1Fr2)"
   ]
  },
  {
   "cell_type": "code",
   "execution_count": 32,
   "metadata": {},
   "outputs": [],
   "source": [
    "from scipy.interpolate import RectBivariateSpline\n",
    "\n",
    "# Create an interpolation function\n",
    "f = RectBivariateSpline(d1, d2, mixvar_00, kx=5, ky=5)\n",
    "\n",
    "# Now you can call f with new r1 and r2 values to get an interpolated Fr1r2 value\n",
    "r1_new = 20.  # replace with your desired r1 value\n",
    "r2_new = 20.  # replace with your desired r2 value\n",
    "Fr1r2_new = f(r1_new, r2_new)"
   ]
  },
  {
   "cell_type": "code",
   "execution_count": 33,
   "metadata": {},
   "outputs": [
    {
     "data": {
      "text/plain": [
       "array([[4.54572241]])"
      ]
     },
     "execution_count": 33,
     "metadata": {},
     "output_type": "execute_result"
    }
   ],
   "source": [
    "Fr1r2_new"
   ]
  },
  {
   "cell_type": "code",
   "execution_count": 34,
   "metadata": {},
   "outputs": [
    {
     "data": {
      "text/plain": [
       "3.796512122729901"
      ]
     },
     "execution_count": 34,
     "metadata": {},
     "output_type": "execute_result"
    }
   ],
   "source": [
    "d1[325]"
   ]
  },
  {
   "cell_type": "code",
   "execution_count": 35,
   "metadata": {},
   "outputs": [
    {
     "data": {
      "text/plain": [
       "10.079963472895626"
      ]
     },
     "execution_count": 35,
     "metadata": {},
     "output_type": "execute_result"
    }
   ],
   "source": [
    "2 * mixvar_00[325, 325] / (2*np.pi**2)"
   ]
  },
  {
   "cell_type": "code",
   "execution_count": 36,
   "metadata": {},
   "outputs": [
    {
     "data": {
      "text/plain": [
       "array([  4,   8,  12,  16,  20,  24,  28,  32,  36,  40,  44,  48,  52,\n",
       "        56,  60,  64,  68,  72,  76,  80,  84,  88,  92,  96, 100, 104,\n",
       "       108, 112, 116, 120, 124, 128, 132, 136, 140, 144, 148, 152, 156,\n",
       "       160, 164, 168, 172])"
      ]
     },
     "execution_count": 36,
     "metadata": {},
     "output_type": "execute_result"
    }
   ],
   "source": [
    "d = np.arange(4, 175, 4)\n",
    "\n",
    "d"
   ]
  },
  {
   "cell_type": "code",
   "execution_count": 37,
   "metadata": {},
   "outputs": [
    {
     "data": {
      "text/plain": [
       "(array([[0.46057798]]), array([[9.23188652]]))"
      ]
     },
     "execution_count": 37,
     "metadata": {},
     "output_type": "execute_result"
    }
   ],
   "source": [
    "2 * f(20, 20) / (2*np.pi**2), 2 * f(4,4)/ (2*np.pi**2)"
   ]
  },
  {
   "cell_type": "code",
   "execution_count": 38,
   "metadata": {},
   "outputs": [],
   "source": [
    "mixvar_00_172 = f(d, d)"
   ]
  },
  {
   "cell_type": "code",
   "execution_count": 39,
   "metadata": {},
   "outputs": [
    {
     "data": {
      "text/plain": [
       "(43, 43)"
      ]
     },
     "execution_count": 39,
     "metadata": {},
     "output_type": "execute_result"
    }
   ],
   "source": [
    "np.shape(mixvar_00_172)"
   ]
  },
  {
   "cell_type": "code",
   "execution_count": 40,
   "metadata": {},
   "outputs": [
    {
     "data": {
      "text/plain": [
       "array([9.11150678e+01, 2.85327317e+01, 1.26487320e+01, 7.28471127e+00,\n",
       "       4.54572241e+00, 3.17225412e+00, 2.30359520e+00, 1.64663745e+00,\n",
       "       1.30431770e+00, 1.04812945e+00, 8.36274069e-01, 6.65925437e-01,\n",
       "       5.62168701e-01, 4.71482608e-01, 4.19527166e-01, 3.64602806e-01,\n",
       "       3.03010447e-01, 2.72855821e-01, 2.37644157e-01, 2.09045807e-01,\n",
       "       1.89075705e-01, 1.66741579e-01, 1.51266831e-01, 1.41290069e-01,\n",
       "       1.28480677e-01, 1.16997542e-01, 1.08860668e-01, 1.00187137e-01,\n",
       "       8.90821875e-02, 8.44270476e-02, 7.93608558e-02, 7.14392196e-02,\n",
       "       6.76955160e-02, 6.43794149e-02, 5.93866744e-02, 5.55082837e-02,\n",
       "       5.33872723e-02, 4.94325570e-02, 4.63402487e-02, 4.46071090e-02,\n",
       "       4.14761025e-02, 3.96579469e-02, 3.73377378e-02])"
      ]
     },
     "execution_count": 40,
     "metadata": {},
     "output_type": "execute_result"
    }
   ],
   "source": [
    "np.diag(mixvar_00_172)"
   ]
  },
  {
   "cell_type": "code",
   "execution_count": 41,
   "metadata": {},
   "outputs": [],
   "source": [
    "varmix_mono_ = np.loadtxt('varmix_mono_bare.dat', skiprows=3)"
   ]
  },
  {
   "cell_type": "code",
   "execution_count": 42,
   "metadata": {},
   "outputs": [
    {
     "data": {
      "text/plain": [
       "(5.065468, 9.231886517786725)"
      ]
     },
     "execution_count": 42,
     "metadata": {},
     "output_type": "execute_result"
    }
   ],
   "source": [
    "varmix_mono_[1,1], 2 * mixvar_00_172[0,0]/(2*np.pi**2)"
   ]
  },
  {
   "cell_type": "code",
   "execution_count": 43,
   "metadata": {},
   "outputs": [
    {
     "data": {
      "text/plain": [
       "(array([  0.,   4.,   8.,  12.,  16.,  20.,  24.,  28.,  32.,  36.,  40.,\n",
       "         44.,  48.,  52.,  56.,  60.,  64.,  68.,  72.,  76.,  80.,  84.,\n",
       "         88.,  92.,  96., 100., 104., 108., 112., 116., 120., 124., 128.,\n",
       "        132., 136., 140., 144., 148., 152., 156., 160., 164., 168., 172.]),\n",
       " array([  0.,   4.,   8.,  12.,  16.,  20.,  24.,  28.,  32.,  36.,  40.,\n",
       "         44.,  48.,  52.,  56.,  60.,  64.,  68.,  72.,  76.,  80.,  84.,\n",
       "         88.,  92.,  96., 100., 104., 108., 112., 116., 120., 124., 128.,\n",
       "        132., 136., 140., 144., 148., 152., 156., 160., 164., 168., 172.]))"
      ]
     },
     "execution_count": 43,
     "metadata": {},
     "output_type": "execute_result"
    }
   ],
   "source": [
    "varcosmic_mono_[0,:], varcosmic_mono_[:,0]"
   ]
  },
  {
   "cell_type": "code",
   "execution_count": 44,
   "metadata": {},
   "outputs": [
    {
     "data": {
      "text/plain": [
       "(43, 43)"
      ]
     },
     "execution_count": 44,
     "metadata": {},
     "output_type": "execute_result"
    }
   ],
   "source": [
    "varmix_mono = varmix_mono_[1:,1:]\n",
    "\n",
    "np.shape(varmix_mono)"
   ]
  },
  {
   "cell_type": "code",
   "execution_count": 45,
   "metadata": {},
   "outputs": [
    {
     "data": {
      "text/plain": [
       "[<matplotlib.lines.Line2D at 0x16a22f760>]"
      ]
     },
     "execution_count": 45,
     "metadata": {},
     "output_type": "execute_result"
    },
    {
     "data": {
      "image/png": "[encoded data removed]",
      "text/plain": [
       "<Figure size 640x480 with 1 Axes>"
      ]
     },
     "metadata": {},
     "output_type": "display_data"
    }
   ],
   "source": [
    "plt.plot(d[4:], np.diag(varmix_mono[4:, 4:]))\n",
    "plt.plot(d[4:], 2*np.diag(mixvar_00_172[4:, 4:])/(2*np.pi**2))"
   ]
  },
  {
   "cell_type": "code",
   "execution_count": 46,
   "metadata": {},
   "outputs": [
    {
     "data": {
      "text/plain": [
       "[<matplotlib.lines.Line2D at 0x16a300430>]"
      ]
     },
     "execution_count": 46,
     "metadata": {},
     "output_type": "execute_result"
    },
    {
     "data": {
      "image/png": "[encoded data removed]",
      "text/plain": [
       "<Figure size 640x480 with 1 Axes>"
      ]
     },
     "metadata": {},
     "output_type": "display_data"
    }
   ],
   "source": [
    "plt.plot(d[4:], np.abs((2*np.diag(mixvar_00_172[4:, 4:])/(2*np.pi**2)-np.diag(varmix_mono[4:, 4:]))/np.diag(varmix_mono[4:, 4:])))"
   ]
  },
  {
   "cell_type": "code",
   "execution_count": null,
   "metadata": {},
   "outputs": [],
   "source": []
  }
 ],
 "metadata": {
  "kernelspec": {
   "display_name": "camb",
   "language": "python",
   "name": "python3"
  },
  "language_info": {
   "codemirror_mode": {
    "name": "ipython",
    "version": 3
   },
   "file_extension": ".py",
   "mimetype": "text/x-python",
   "name": "python",
   "nbconvert_exporter": "python",
   "pygments_lexer": "ipython3",
   "version": "3.9.16"
  },
  "orig_nbformat": 4
 },
 "nbformat": 4,
 "nbformat_minor": 2
}
