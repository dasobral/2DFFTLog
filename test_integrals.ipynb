{
 "cells": [
  {
   "cell_type": "code",
   "execution_count": 82,
   "metadata": {},
   "outputs": [],
   "source": [
    "import numpy as np\n",
    "from twobessel import *\n",
    "import matplotlib.pyplot as plt\n",
    "import cambPK "
   ]
  },
  {
   "cell_type": "code",
   "execution_count": 83,
   "metadata": {},
   "outputs": [],
   "source": [
    "%run cambPK.py"
   ]
  },
  {
   "cell_type": "code",
   "execution_count": 84,
   "metadata": {},
   "outputs": [
    {
     "data": {
      "text/plain": [
       "array([[1.00000000e-04, 3.38379116e+02],\n",
       "       [1.00052177e-04, 3.38549693e+02],\n",
       "       [1.00104382e-04, 3.38720356e+02],\n",
       "       ...,\n",
       "       [2.49739317e-01, 1.61820544e+03],\n",
       "       [2.49869625e-01, 1.61695156e+03],\n",
       "       [2.50000000e-01, 1.61570077e+03]])"
      ]
     },
     "execution_count": 84,
     "metadata": {},
     "output_type": "execute_result"
    }
   ],
   "source": [
    "cambPK.pk_out"
   ]
  },
  {
   "cell_type": "code",
   "execution_count": 85,
   "metadata": {},
   "outputs": [
    {
     "data": {
      "text/plain": [
       "3000"
      ]
     },
     "execution_count": 85,
     "metadata": {},
     "output_type": "execute_result"
    }
   ],
   "source": [
    "k, pk = np.loadtxt('Pk_test', usecols=(0,1), unpack=True)\n",
    "\n",
    "len(k)"
   ]
  },
  {
   "cell_type": "code",
   "execution_count": 86,
   "metadata": {},
   "outputs": [
    {
     "data": {
      "text/plain": [
       "15000"
      ]
     },
     "execution_count": 86,
     "metadata": {},
     "output_type": "execute_result"
    }
   ],
   "source": [
    "x_vals = cambPK.pk_out[:,0]\n",
    "y_vals = cambPK.pk_out[:,1]\n",
    "\n",
    "len(x_vals)"
   ]
  },
  {
   "cell_type": "code",
   "execution_count": 87,
   "metadata": {},
   "outputs": [
    {
     "data": {
      "image/png": "[encoded data removed]",
      "text/plain": [
       "<Figure size 640x480 with 1 Axes>"
      ]
     },
     "metadata": {},
     "output_type": "display_data"
    }
   ],
   "source": [
    "\n",
    "plt.plot(x_vals, y_vals, lw = 2.0, label = r'Pkz0')\n",
    "plt.plot(k, pk, lw = 2.0, label = r'Pk_test')\n",
    "\n",
    "plt.yscale('log')\n",
    "plt.xscale('log')\n",
    "\n",
    "plt.xlabel(r'k [h/Mpc]');\n",
    "plt.ylabel(r'P(k)')\n",
    "\n",
    "plt.legend();"
   ]
  },
  {
   "attachments": {},
   "cell_type": "markdown",
   "metadata": {},
   "source": [
    "# Cosmic variance"
   ]
  },
  {
   "cell_type": "code",
   "execution_count": 132,
   "metadata": {},
   "outputs": [
    {
     "name": "stdout",
     "output_type": "stream",
     "text": [
      "Number of data points: 15000\n"
     ]
    }
   ],
   "source": [
    "k, pk = np.loadtxt('Pkz0.0.dat', usecols=(0, 1), unpack=True)\n",
    "\n",
    "# Get the logk-spacing\n",
    "dlnk = np.log(k[1]/k[0])\n",
    "\n",
    "N = k.size\n",
    "print('Number of data points: '+str(N))\n",
    "\n",
    "ell1 = 0\n",
    "ell2 = 0\n",
    "nu = 1.01\n",
    "\n",
    "# Define the input 'kernel'. It has to be a matri: transform the pk to a diagonal matrix\n",
    "pk1k2 = np.diag(k**3 * pk**2 / dlnk)"
   ]
  },
  {
   "cell_type": "code",
   "execution_count": 133,
   "metadata": {},
   "outputs": [
    {
     "name": "stdout",
     "output_type": "stream",
     "text": [
      "15000 15000\n",
      "(15000, 15000)\n",
      "15000 15000\n"
     ]
    }
   ],
   "source": [
    "# Define the class for spherical Bessel \n",
    "\n",
    "sph_bessel = two_sph_bessel(k, k, pk1k2, nu1=nu, nu2=nu,  N_extrap_low=0, N_extrap_high=0, c_window_width=0.25, N_pad=0)\n",
    "\n",
    "r1, r2, Fr1Fr2 = sph_bessel.two_sph_bessel(ell1, ell2)"
   ]
  },
  {
   "cell_type": "code",
   "execution_count": 134,
   "metadata": {},
   "outputs": [],
   "source": [
    "# Drop results above 200 Mpc/h\n",
    "\n",
    "criterion = r1 <= 200\n",
    "\n",
    "d1 = r1[criterion]\n",
    "d2 = r2[criterion]\n",
    "\n",
    "var_00 = Fr1Fr2[:len(d1), :len(d2)]"
   ]
  },
  {
   "cell_type": "code",
   "execution_count": 135,
   "metadata": {},
   "outputs": [
    {
     "data": {
      "text/plain": [
       "array([  4.        ,   4.0020871 ,   4.00417528, ..., 199.73935107,\n",
       "       199.84356985, 199.94784302])"
      ]
     },
     "execution_count": 135,
     "metadata": {},
     "output_type": "execute_result"
    }
   ],
   "source": [
    "d1"
   ]
  },
  {
   "cell_type": "code",
   "execution_count": 136,
   "metadata": {},
   "outputs": [
    {
     "data": {
      "text/plain": [
       "(7500, 7500)"
      ]
     },
     "execution_count": 136,
     "metadata": {},
     "output_type": "execute_result"
    }
   ],
   "source": [
    "np.shape(var_00)"
   ]
  },
  {
   "cell_type": "code",
   "execution_count": 137,
   "metadata": {},
   "outputs": [
    {
     "data": {
      "text/plain": [
       "(15000, 15000)"
      ]
     },
     "execution_count": 137,
     "metadata": {},
     "output_type": "execute_result"
    }
   ],
   "source": [
    "np.shape(Fr1Fr2)"
   ]
  },
  {
   "cell_type": "code",
   "execution_count": 138,
   "metadata": {},
   "outputs": [],
   "source": [
    "from scipy.interpolate import RectBivariateSpline\n",
    "\n",
    "# Create an interpolation function\n",
    "f = RectBivariateSpline(d1, d2, var_00, kx=5, ky=5)\n",
    "\n",
    "# Now you can call f with new r1 and r2 values to get an interpolated Fr1r2 value\n",
    "r1_new = 20.  # replace with your desired r1 value\n",
    "r2_new = 20.  # replace with your desired r2 value\n",
    "\n",
    "Fr1r2_new = f(r1_new, r2_new)"
   ]
  },
  {
   "cell_type": "code",
   "execution_count": 139,
   "metadata": {},
   "outputs": [
    {
     "data": {
      "text/plain": [
       "array([[55289.51871664]])"
      ]
     },
     "execution_count": 139,
     "metadata": {},
     "output_type": "execute_result"
    }
   ],
   "source": [
    "Fr1r2_new"
   ]
  },
  {
   "cell_type": "code",
   "execution_count": 140,
   "metadata": {},
   "outputs": [
    {
     "data": {
      "text/plain": [
       "4.739002450962135"
      ]
     },
     "execution_count": 140,
     "metadata": {},
     "output_type": "execute_result"
    }
   ],
   "source": [
    "d1[325]"
   ]
  },
  {
   "cell_type": "code",
   "execution_count": 141,
   "metadata": {},
   "outputs": [
    {
     "data": {
      "text/plain": [
       "34424.30611871764"
      ]
     },
     "execution_count": 141,
     "metadata": {},
     "output_type": "execute_result"
    }
   ],
   "source": [
    "var_00[325, 325] / (2*np.pi**2)"
   ]
  },
  {
   "cell_type": "code",
   "execution_count": 142,
   "metadata": {},
   "outputs": [
    {
     "data": {
      "text/plain": [
       "array([  4,   8,  12,  16,  20,  24,  28,  32,  36,  40,  44,  48,  52,\n",
       "        56,  60,  64,  68,  72,  76,  80,  84,  88,  92,  96, 100, 104,\n",
       "       108, 112, 116, 120, 124, 128, 132, 136, 140, 144, 148, 152, 156,\n",
       "       160, 164, 168, 172])"
      ]
     },
     "execution_count": 142,
     "metadata": {},
     "output_type": "execute_result"
    }
   ],
   "source": [
    "d = np.arange(4, 175, 4)\n",
    "\n",
    "d"
   ]
  },
  {
   "cell_type": "code",
   "execution_count": 143,
   "metadata": {},
   "outputs": [
    {
     "data": {
      "text/plain": [
       "(array([[2800.99973969]]), array([[46978.27244983]]))"
      ]
     },
     "execution_count": 143,
     "metadata": {},
     "output_type": "execute_result"
    }
   ],
   "source": [
    "f(20, 20) / (2*np.pi**2), f(4,4)/ (2*np.pi**2)"
   ]
  },
  {
   "cell_type": "code",
   "execution_count": 144,
   "metadata": {},
   "outputs": [],
   "source": [
    "var_00_172 = f(d, d)"
   ]
  },
  {
   "cell_type": "code",
   "execution_count": 145,
   "metadata": {},
   "outputs": [
    {
     "data": {
      "text/plain": [
       "(43, 43)"
      ]
     },
     "execution_count": 145,
     "metadata": {},
     "output_type": "execute_result"
    }
   ],
   "source": [
    "np.shape(var_00_172)"
   ]
  },
  {
   "cell_type": "code",
   "execution_count": 146,
   "metadata": {},
   "outputs": [],
   "source": [
    "Omm=0.3111\t \n",
    "Omb=0.0490\t \n",
    "h=0.677\t \n",
    "ns=0.9665\t \n",
    "Acamb=2.105e-09"
   ]
  },
  {
   "cell_type": "code",
   "execution_count": 147,
   "metadata": {},
   "outputs": [
    {
     "data": {
      "text/plain": [
       "(0.1425861519, 0.022458121000000004)"
      ]
     },
     "execution_count": 147,
     "metadata": {},
     "output_type": "execute_result"
    }
   ],
   "source": [
    "Omm*h**2, Omb*h**2"
   ]
  },
  {
   "cell_type": "code",
   "execution_count": 148,
   "metadata": {},
   "outputs": [
    {
     "data": {
      "text/plain": [
       "array([9.27313929e+05, 2.71545152e+05, 1.36446106e+05, 8.19357926e+04,\n",
       "       5.52895187e+04, 4.01819447e+04, 2.91753075e+04, 2.23753458e+04,\n",
       "       1.80010053e+04, 1.44596767e+04, 1.18358675e+04, 9.59080545e+03,\n",
       "       8.33972539e+03, 7.03723284e+03, 5.79610514e+03, 5.19217919e+03,\n",
       "       4.32122594e+03, 3.96244541e+03, 3.27512435e+03, 3.04719962e+03,\n",
       "       2.53309859e+03, 2.28118182e+03, 2.12691880e+03, 1.81080457e+03,\n",
       "       1.67328006e+03, 1.56935637e+03, 1.39294185e+03, 1.31143063e+03,\n",
       "       1.16791119e+03, 1.07656622e+03, 1.01490471e+03, 9.40731398e+02,\n",
       "       8.72320397e+02, 8.01601467e+02, 7.35843780e+02, 6.88742870e+02,\n",
       "       6.44440106e+02, 5.94876450e+02, 5.76144672e+02, 5.36367577e+02,\n",
       "       5.19175879e+02, 4.80340240e+02, 4.49247761e+02])"
      ]
     },
     "execution_count": 148,
     "metadata": {},
     "output_type": "execute_result"
    }
   ],
   "source": [
    "np.diag(var_00_172)"
   ]
  },
  {
   "cell_type": "code",
   "execution_count": 149,
   "metadata": {},
   "outputs": [],
   "source": [
    "varcosmic_mono_ = np.loadtxt('varcosmic_mono_bare.dat', skiprows=3)"
   ]
  },
  {
   "cell_type": "code",
   "execution_count": 150,
   "metadata": {},
   "outputs": [
    {
     "data": {
      "text/plain": [
       "(6679.41, 46978.27244983451)"
      ]
     },
     "execution_count": 150,
     "metadata": {},
     "output_type": "execute_result"
    }
   ],
   "source": [
    "varcosmic_mono_[1,1], var_00_172[0,0]/(2*np.pi**2)"
   ]
  },
  {
   "cell_type": "code",
   "execution_count": 151,
   "metadata": {},
   "outputs": [
    {
     "data": {
      "text/plain": [
       "(array([  0.,   4.,   8.,  12.,  16.,  20.,  24.,  28.,  32.,  36.,  40.,\n",
       "         44.,  48.,  52.,  56.,  60.,  64.,  68.,  72.,  76.,  80.,  84.,\n",
       "         88.,  92.,  96., 100., 104., 108., 112., 116., 120., 124., 128.,\n",
       "        132., 136., 140., 144., 148., 152., 156., 160., 164., 168., 172.]),\n",
       " array([  0.,   4.,   8.,  12.,  16.,  20.,  24.,  28.,  32.,  36.,  40.,\n",
       "         44.,  48.,  52.,  56.,  60.,  64.,  68.,  72.,  76.,  80.,  84.,\n",
       "         88.,  92.,  96., 100., 104., 108., 112., 116., 120., 124., 128.,\n",
       "        132., 136., 140., 144., 148., 152., 156., 160., 164., 168., 172.]))"
      ]
     },
     "execution_count": 151,
     "metadata": {},
     "output_type": "execute_result"
    }
   ],
   "source": [
    "varcosmic_mono_[0,:], varcosmic_mono_[:,0]"
   ]
  },
  {
   "cell_type": "code",
   "execution_count": 152,
   "metadata": {},
   "outputs": [
    {
     "data": {
      "text/plain": [
       "(43, 43)"
      ]
     },
     "execution_count": 152,
     "metadata": {},
     "output_type": "execute_result"
    }
   ],
   "source": [
    "varcosmic_mono = varcosmic_mono_[1:,1:]\n",
    "\n",
    "np.shape(varcosmic_mono)"
   ]
  },
  {
   "cell_type": "code",
   "execution_count": 153,
   "metadata": {},
   "outputs": [
    {
     "data": {
      "text/plain": [
       "[<matplotlib.lines.Line2D at 0x16b8702e0>]"
      ]
     },
     "execution_count": 153,
     "metadata": {},
     "output_type": "execute_result"
    },
    {
     "data": {
      "image/png": "[encoded data removed]",
      "text/plain": [
       "<Figure size 640x480 with 1 Axes>"
      ]
     },
     "metadata": {},
     "output_type": "display_data"
    }
   ],
   "source": [
    "plt.plot(d[4:], np.diag(varcosmic_mono[4:, 4:]))\n",
    "plt.plot(d[4:], np.diag(var_00_172[4:, 4:])/(np.pi**2))"
   ]
  },
  {
   "cell_type": "code",
   "execution_count": 154,
   "metadata": {},
   "outputs": [
    {
     "data": {
      "text/plain": [
       "[<matplotlib.lines.Line2D at 0x16b8b4d00>]"
      ]
     },
     "execution_count": 154,
     "metadata": {},
     "output_type": "execute_result"
    },
    {
     "data": {
      "image/png": "[encoded data removed]",
      "text/plain": [
       "<Figure size 640x480 with 1 Axes>"
      ]
     },
     "metadata": {},
     "output_type": "display_data"
    }
   ],
   "source": [
    "plt.plot(d[4:], np.abs((np.diag(var_00_172[4:, 4:])/(np.pi**2)-np.diag(varcosmic_mono[4:, 4:]))/np.diag(varcosmic_mono[4:, 4:])))"
   ]
  },
  {
   "attachments": {},
   "cell_type": "markdown",
   "metadata": {},
   "source": [
    "# Mixed terms"
   ]
  },
  {
   "cell_type": "code",
   "execution_count": 155,
   "metadata": {},
   "outputs": [
    {
     "name": "stdout",
     "output_type": "stream",
     "text": [
      "Number of data points: 15000\n"
     ]
    }
   ],
   "source": [
    "k, pk = np.loadtxt('Pkz0.0.dat', usecols=(0, 1), unpack=True)\n",
    "\n",
    "# Get the logk-spacing\n",
    "dlnk = np.log(k[1]/k[0])\n",
    "\n",
    "N = k.size\n",
    "print('Number of data points: '+str(N))\n",
    "\n",
    "ell1 = 0\n",
    "ell2 = 0\n",
    "nu = 1.01\n",
    "\n",
    "# Define the input 'kernel'. It has to be a matri: transform the pk to a diagonal matrix\n",
    "pk1k2 = np.diag(k**3 * pk / dlnk)"
   ]
  },
  {
   "cell_type": "code",
   "execution_count": 156,
   "metadata": {},
   "outputs": [
    {
     "name": "stdout",
     "output_type": "stream",
     "text": [
      "15000 15000\n",
      "(15000, 15000)\n",
      "15000 15000\n"
     ]
    }
   ],
   "source": [
    "# Define the class for spherical Bessel \n",
    "\n",
    "sph_bessel = two_sph_bessel(k, k, pk1k2, nu1=nu, nu2=nu,  N_extrap_low=0, N_extrap_high=0, c_window_width=0.25, N_pad=0)\n",
    "\n",
    "r1, r2, Fr1Fr2 = sph_bessel.two_sph_bessel(ell1, ell2)"
   ]
  },
  {
   "cell_type": "code",
   "execution_count": 157,
   "metadata": {},
   "outputs": [],
   "source": [
    "# Drop results above 200 Mpc/h\n",
    "\n",
    "criterion = r1 <= 200\n",
    "\n",
    "d1 = r1[criterion]\n",
    "d2 = r2[criterion]\n",
    "\n",
    "mixvar_00 = Fr1Fr2[:len(d1), :len(d2)]"
   ]
  },
  {
   "cell_type": "code",
   "execution_count": 158,
   "metadata": {},
   "outputs": [
    {
     "data": {
      "text/plain": [
       "(7500, 7500)"
      ]
     },
     "execution_count": 158,
     "metadata": {},
     "output_type": "execute_result"
    }
   ],
   "source": [
    "np.shape(mixvar_00)"
   ]
  },
  {
   "cell_type": "code",
   "execution_count": 159,
   "metadata": {},
   "outputs": [
    {
     "data": {
      "text/plain": [
       "(15000, 15000)"
      ]
     },
     "execution_count": 159,
     "metadata": {},
     "output_type": "execute_result"
    }
   ],
   "source": [
    "np.shape(Fr1Fr2)"
   ]
  },
  {
   "cell_type": "code",
   "execution_count": 160,
   "metadata": {},
   "outputs": [],
   "source": [
    "from scipy.interpolate import RectBivariateSpline\n",
    "\n",
    "# Create an interpolation function\n",
    "f = RectBivariateSpline(d1, d2, mixvar_00, kx=5, ky=5)\n",
    "\n",
    "# Now you can call f with new r1 and r2 values to get an interpolated Fr1r2 value\n",
    "r1_new = 20.  # replace with your desired r1 value\n",
    "r2_new = 20.  # replace with your desired r2 value\n",
    "Fr1r2_new = f(r1_new, r2_new)"
   ]
  },
  {
   "cell_type": "code",
   "execution_count": 161,
   "metadata": {},
   "outputs": [
    {
     "data": {
      "text/plain": [
       "array([[4.28514504]])"
      ]
     },
     "execution_count": 161,
     "metadata": {},
     "output_type": "execute_result"
    }
   ],
   "source": [
    "Fr1r2_new"
   ]
  },
  {
   "cell_type": "code",
   "execution_count": 162,
   "metadata": {},
   "outputs": [
    {
     "data": {
      "text/plain": [
       "4.739002450962135"
      ]
     },
     "execution_count": 162,
     "metadata": {},
     "output_type": "execute_result"
    }
   ],
   "source": [
    "d1[325]"
   ]
  },
  {
   "cell_type": "code",
   "execution_count": 175,
   "metadata": {},
   "outputs": [
    {
     "data": {
      "text/plain": [
       "3.1610834918042494"
      ]
     },
     "execution_count": 175,
     "metadata": {},
     "output_type": "execute_result"
    }
   ],
   "source": [
    "mixvar_00[325, 325] / (2*np.pi**2)"
   ]
  },
  {
   "cell_type": "code",
   "execution_count": 164,
   "metadata": {},
   "outputs": [
    {
     "data": {
      "text/plain": [
       "array([  4,   8,  12,  16,  20,  24,  28,  32,  36,  40,  44,  48,  52,\n",
       "        56,  60,  64,  68,  72,  76,  80,  84,  88,  92,  96, 100, 104,\n",
       "       108, 112, 116, 120, 124, 128, 132, 136, 140, 144, 148, 152, 156,\n",
       "       160, 164, 168, 172])"
      ]
     },
     "execution_count": 164,
     "metadata": {},
     "output_type": "execute_result"
    }
   ],
   "source": [
    "d = np.arange(4, 175, 4)\n",
    "\n",
    "d"
   ]
  },
  {
   "cell_type": "code",
   "execution_count": 176,
   "metadata": {},
   "outputs": [
    {
     "data": {
      "text/plain": [
       "(array([[0.21708798]]), array([[4.19941217]]))"
      ]
     },
     "execution_count": 176,
     "metadata": {},
     "output_type": "execute_result"
    }
   ],
   "source": [
    "f(20, 20) / (2*np.pi**2), f(4,4)/ (2*np.pi**2)"
   ]
  },
  {
   "cell_type": "code",
   "execution_count": 166,
   "metadata": {},
   "outputs": [],
   "source": [
    "mixvar_00_172 = f(d, d)"
   ]
  },
  {
   "cell_type": "code",
   "execution_count": 167,
   "metadata": {},
   "outputs": [
    {
     "data": {
      "text/plain": [
       "(43, 43)"
      ]
     },
     "execution_count": 167,
     "metadata": {},
     "output_type": "execute_result"
    }
   ],
   "source": [
    "np.shape(mixvar_00_172)"
   ]
  },
  {
   "cell_type": "code",
   "execution_count": 168,
   "metadata": {},
   "outputs": [
    {
     "data": {
      "text/plain": [
       "array([8.28930736e+01, 2.65216031e+01, 1.24582197e+01, 6.63435738e+00,\n",
       "       4.28514504e+00, 3.00454758e+00, 2.05055979e+00, 1.54666121e+00,\n",
       "       1.23145689e+00, 9.63148408e-01, 7.81609693e-01, 6.30949084e-01,\n",
       "       5.42036096e-01, 4.57279971e-01, 3.80405103e-01, 3.37244688e-01,\n",
       "       2.84120789e-01, 2.60757113e-01, 2.19344455e-01, 2.02492866e-01,\n",
       "       1.74212805e-01, 1.57366297e-01, 1.45662112e-01, 1.28220395e-01,\n",
       "       1.18380028e-01, 1.10210396e-01, 1.00037980e-01, 9.38690346e-02,\n",
       "       8.47926567e-02, 7.89251270e-02, 7.43551575e-02, 6.90142972e-02,\n",
       "       6.45628666e-02, 6.00905277e-02, 5.55698618e-02, 5.22968863e-02,\n",
       "       4.93112417e-02, 4.58501876e-02, 4.40855244e-02, 4.15379943e-02,\n",
       "       3.98450017e-02, 3.72568812e-02, 3.52306375e-02])"
      ]
     },
     "execution_count": 168,
     "metadata": {},
     "output_type": "execute_result"
    }
   ],
   "source": [
    "np.diag(mixvar_00_172)"
   ]
  },
  {
   "cell_type": "code",
   "execution_count": 169,
   "metadata": {},
   "outputs": [],
   "source": [
    "varmix_mono_ = np.loadtxt('varmix_mono_bare.dat', skiprows=3)"
   ]
  },
  {
   "cell_type": "code",
   "execution_count": 177,
   "metadata": {},
   "outputs": [
    {
     "data": {
      "text/plain": [
       "(5.065468, 4.199412167083937)"
      ]
     },
     "execution_count": 177,
     "metadata": {},
     "output_type": "execute_result"
    }
   ],
   "source": [
    "varmix_mono_[1,1], mixvar_00_172[0,0]/(2*np.pi**2)"
   ]
  },
  {
   "cell_type": "code",
   "execution_count": 171,
   "metadata": {},
   "outputs": [
    {
     "data": {
      "text/plain": [
       "(array([  0.,   4.,   8.,  12.,  16.,  20.,  24.,  28.,  32.,  36.,  40.,\n",
       "         44.,  48.,  52.,  56.,  60.,  64.,  68.,  72.,  76.,  80.,  84.,\n",
       "         88.,  92.,  96., 100., 104., 108., 112., 116., 120., 124., 128.,\n",
       "        132., 136., 140., 144., 148., 152., 156., 160., 164., 168., 172.]),\n",
       " array([  0.,   4.,   8.,  12.,  16.,  20.,  24.,  28.,  32.,  36.,  40.,\n",
       "         44.,  48.,  52.,  56.,  60.,  64.,  68.,  72.,  76.,  80.,  84.,\n",
       "         88.,  92.,  96., 100., 104., 108., 112., 116., 120., 124., 128.,\n",
       "        132., 136., 140., 144., 148., 152., 156., 160., 164., 168., 172.]))"
      ]
     },
     "execution_count": 171,
     "metadata": {},
     "output_type": "execute_result"
    }
   ],
   "source": [
    "varcosmic_mono_[0,:], varcosmic_mono_[:,0]"
   ]
  },
  {
   "cell_type": "code",
   "execution_count": 172,
   "metadata": {},
   "outputs": [
    {
     "data": {
      "text/plain": [
       "(43, 43)"
      ]
     },
     "execution_count": 172,
     "metadata": {},
     "output_type": "execute_result"
    }
   ],
   "source": [
    "varmix_mono = varmix_mono_[1:,1:]\n",
    "\n",
    "np.shape(varmix_mono)"
   ]
  },
  {
   "cell_type": "code",
   "execution_count": 180,
   "metadata": {},
   "outputs": [
    {
     "data": {
      "text/plain": [
       "[<matplotlib.lines.Line2D at 0x16b957df0>]"
      ]
     },
     "execution_count": 180,
     "metadata": {},
     "output_type": "execute_result"
    },
    {
     "data": {
      "image/png": "[encoded data removed]",
      "text/plain": [
       "<Figure size 640x480 with 1 Axes>"
      ]
     },
     "metadata": {},
     "output_type": "display_data"
    }
   ],
   "source": [
    "plt.plot(d[4:], np.diag(varmix_mono[4:, 4:]))\n",
    "plt.plot(d[4:], np.diag(mixvar_00_172[4:, 4:])/(np.pi**2))"
   ]
  },
  {
   "cell_type": "code",
   "execution_count": 174,
   "metadata": {},
   "outputs": [
    {
     "data": {
      "image/png": "[encoded data removed]",
      "text/plain": [
       "<Figure size 640x480 with 1 Axes>"
      ]
     },
     "metadata": {},
     "output_type": "display_data"
    }
   ],
   "source": [
    "plt.plot(d[4:], np.abs((2*np.diag(mixvar_00_172[4:, 4:])/(np.pi**2)-np.diag(varmix_mono[4:, 4:]))/np.diag(varmix_mono[4:, 4:])))\n",
    "\n",
    "plt.yscale('log')"
   ]
  },
  {
   "cell_type": "code",
   "execution_count": null,
   "metadata": {},
   "outputs": [],
   "source": []
  }
 ],
 "metadata": {
  "kernelspec": {
   "display_name": "camb",
   "language": "python",
   "name": "python3"
  },
  "language_info": {
   "codemirror_mode": {
    "name": "ipython",
    "version": 3
   },
   "file_extension": ".py",
   "mimetype": "text/x-python",
   "name": "python",
   "nbconvert_exporter": "python",
   "pygments_lexer": "ipython3",
   "version": "3.9.16"
  },
  "orig_nbformat": 4
 },
 "nbformat": 4,
 "nbformat_minor": 2
}
