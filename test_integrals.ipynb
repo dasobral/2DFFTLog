{
 "cells": [
  {
   "cell_type": "code",
   "execution_count": 1,
   "metadata": {},
   "outputs": [],
   "source": [
    "import numpy as np\n",
    "from twobessel import *\n",
    "import matplotlib.pyplot as plt\n",
    "import cambPK "
   ]
  },
  {
   "cell_type": "code",
   "execution_count": 2,
   "metadata": {},
   "outputs": [],
   "source": [
    "%run cambPK.py"
   ]
  },
  {
   "cell_type": "code",
   "execution_count": 3,
   "metadata": {},
   "outputs": [
    {
     "data": {
      "text/plain": [
       "array([[1.00000000e-04, 3.40376513e+02],\n",
       "       [1.00078279e-04, 3.40633924e+02],\n",
       "       [1.00156619e-04, 3.40891530e+02],\n",
       "       ...,\n",
       "       [2.49609065e-01, 1.66115721e+03],\n",
       "       [2.49804456e-01, 1.65922259e+03],\n",
       "       [2.50000000e-01, 1.65729517e+03]])"
      ]
     },
     "execution_count": 3,
     "metadata": {},
     "output_type": "execute_result"
    }
   ],
   "source": [
    "cambPK.pk_out"
   ]
  },
  {
   "attachments": {},
   "cell_type": "markdown",
   "metadata": {},
   "source": [
    "# Cosmic variance"
   ]
  },
  {
   "cell_type": "code",
   "execution_count": 4,
   "metadata": {},
   "outputs": [
    {
     "name": "stdout",
     "output_type": "stream",
     "text": [
      "Number of data points: 10000\n"
     ]
    }
   ],
   "source": [
    "k, pk = np.loadtxt('Pkz0.0.dat', usecols=(0, 1), unpack=True)\n",
    "\n",
    "# Get the logk-spacing\n",
    "dlnk = np.log(k[1]/k[0])\n",
    "\n",
    "N = k.size\n",
    "print('Number of data points: '+str(N))\n",
    "\n",
    "ell1 = 0\n",
    "ell2 = 0\n",
    "nu = 1.01\n",
    "\n",
    "# Define the input 'kernel'. It has to be a matri: transform the pk to a diagonal matrix\n",
    "pk1k2 = np.diag(k**3 * pk**2 / dlnk)"
   ]
  },
  {
   "cell_type": "code",
   "execution_count": 5,
   "metadata": {},
   "outputs": [
    {
     "name": "stdout",
     "output_type": "stream",
     "text": [
      "10000 10000\n",
      "(10000, 10000)\n",
      "10000 10000\n"
     ]
    }
   ],
   "source": [
    "# Define the class for spherical Bessel \n",
    "\n",
    "sph_bessel = two_sph_bessel(k, k, pk1k2, nu1=nu, nu2=nu,  N_extrap_low=0, N_extrap_high=0, c_window_width=0.25, N_pad=0)\n",
    "\n",
    "r1, r2, Fr1Fr2 = sph_bessel.two_sph_bessel(ell1, ell2)"
   ]
  },
  {
   "cell_type": "code",
   "execution_count": 6,
   "metadata": {},
   "outputs": [],
   "source": [
    "# Drop results above 200 Mpc/h\n",
    "\n",
    "criterion = r1 <= 200\n",
    "\n",
    "d1 = r1[criterion]\n",
    "d2 = r2[criterion]\n",
    "\n",
    "var_00 = Fr1Fr2[:len(d1), :len(d2)]"
   ]
  },
  {
   "cell_type": "code",
   "execution_count": 7,
   "metadata": {},
   "outputs": [
    {
     "data": {
      "text/plain": [
       "array([  4.        ,   4.00313116,   4.00626476, ..., 199.609141  ,\n",
       "       199.76539285, 199.92176702])"
      ]
     },
     "execution_count": 7,
     "metadata": {},
     "output_type": "execute_result"
    }
   ],
   "source": [
    "d1"
   ]
  },
  {
   "cell_type": "code",
   "execution_count": 8,
   "metadata": {},
   "outputs": [
    {
     "data": {
      "text/plain": [
       "(5000, 5000)"
      ]
     },
     "execution_count": 8,
     "metadata": {},
     "output_type": "execute_result"
    }
   ],
   "source": [
    "np.shape(var_00)"
   ]
  },
  {
   "cell_type": "code",
   "execution_count": 9,
   "metadata": {},
   "outputs": [
    {
     "data": {
      "text/plain": [
       "(10000, 10000)"
      ]
     },
     "execution_count": 9,
     "metadata": {},
     "output_type": "execute_result"
    }
   ],
   "source": [
    "np.shape(Fr1Fr2)"
   ]
  },
  {
   "cell_type": "code",
   "execution_count": 10,
   "metadata": {},
   "outputs": [],
   "source": [
    "from scipy.interpolate import RectBivariateSpline\n",
    "\n",
    "# Create an interpolation function\n",
    "f = RectBivariateSpline(d1, d2, var_00, kx=5, ky=5)\n",
    "\n",
    "# Now you can call f with new r1 and r2 values to get an interpolated Fr1r2 value\n",
    "r1_new = 20.  # replace with your desired r1 value\n",
    "r2_new = 20.  # replace with your desired r2 value\n",
    "Fr1r2_new = f(r1_new, r2_new)"
   ]
  },
  {
   "cell_type": "code",
   "execution_count": 11,
   "metadata": {},
   "outputs": [
    {
     "data": {
      "text/plain": [
       "array([[55047.82332293]])"
      ]
     },
     "execution_count": 11,
     "metadata": {},
     "output_type": "execute_result"
    }
   ],
   "source": [
    "Fr1r2_new"
   ]
  },
  {
   "cell_type": "code",
   "execution_count": 12,
   "metadata": {},
   "outputs": [
    {
     "data": {
      "text/plain": [
       "5.1582701816003915"
      ]
     },
     "execution_count": 12,
     "metadata": {},
     "output_type": "execute_result"
    }
   ],
   "source": [
    "d1[325]"
   ]
  },
  {
   "cell_type": "code",
   "execution_count": 13,
   "metadata": {},
   "outputs": [
    {
     "data": {
      "text/plain": [
       "30770.960186037722"
      ]
     },
     "execution_count": 13,
     "metadata": {},
     "output_type": "execute_result"
    }
   ],
   "source": [
    "var_00[325, 325] / (2*np.pi**2)"
   ]
  },
  {
   "cell_type": "code",
   "execution_count": 14,
   "metadata": {},
   "outputs": [
    {
     "data": {
      "text/plain": [
       "array([  4,   8,  12,  16,  20,  24,  28,  32,  36,  40,  44,  48,  52,\n",
       "        56,  60,  64,  68,  72,  76,  80,  84,  88,  92,  96, 100, 104,\n",
       "       108, 112, 116, 120, 124, 128, 132, 136, 140, 144, 148, 152, 156,\n",
       "       160, 164, 168, 172])"
      ]
     },
     "execution_count": 14,
     "metadata": {},
     "output_type": "execute_result"
    }
   ],
   "source": [
    "d = np.arange(4, 175, 4)\n",
    "\n",
    "d"
   ]
  },
  {
   "cell_type": "code",
   "execution_count": 15,
   "metadata": {},
   "outputs": [
    {
     "data": {
      "text/plain": [
       "(array([[2788.75530801]]), array([[48915.38454575]]))"
      ]
     },
     "execution_count": 15,
     "metadata": {},
     "output_type": "execute_result"
    }
   ],
   "source": [
    "f(20, 20) / (2*np.pi**2), f(4,4)/ (2*np.pi**2)"
   ]
  },
  {
   "cell_type": "code",
   "execution_count": 16,
   "metadata": {},
   "outputs": [],
   "source": [
    "var_00_172 = f(d, d)"
   ]
  },
  {
   "cell_type": "code",
   "execution_count": 17,
   "metadata": {},
   "outputs": [
    {
     "data": {
      "text/plain": [
       "(43, 43)"
      ]
     },
     "execution_count": 17,
     "metadata": {},
     "output_type": "execute_result"
    }
   ],
   "source": [
    "np.shape(var_00_172)"
   ]
  },
  {
   "cell_type": "code",
   "execution_count": 18,
   "metadata": {},
   "outputs": [],
   "source": [
    "Omm=0.3111\t \n",
    "Omb=0.0490\t \n",
    "h=0.677\t \n",
    "ns=0.9665\t \n",
    "Acamb=2.105e-09"
   ]
  },
  {
   "cell_type": "code",
   "execution_count": 19,
   "metadata": {},
   "outputs": [
    {
     "data": {
      "text/plain": [
       "(0.1425861519, 0.022458121000000004)"
      ]
     },
     "execution_count": 19,
     "metadata": {},
     "output_type": "execute_result"
    }
   ],
   "source": [
    "Omm*h**2, Omb*h**2"
   ]
  },
  {
   "cell_type": "code",
   "execution_count": 20,
   "metadata": {},
   "outputs": [
    {
     "data": {
      "text/plain": [
       "array([9.65550989e+05, 2.80480212e+05, 1.39043322e+05, 8.15283134e+04,\n",
       "       5.50478233e+04, 3.88111727e+04, 2.85477891e+04, 2.09419635e+04,\n",
       "       1.72322390e+04, 1.31370706e+04, 1.05040633e+04, 8.81094567e+03,\n",
       "       7.72709179e+03, 6.23781332e+03, 5.49319362e+03, 4.55803175e+03,\n",
       "       4.02025598e+03, 3.52012773e+03, 3.10678689e+03, 2.58040706e+03,\n",
       "       2.39248303e+03, 2.07899491e+03, 1.91541814e+03, 1.64891935e+03,\n",
       "       1.51185815e+03, 1.39837359e+03, 1.29799929e+03, 1.13938242e+03,\n",
       "       1.05777204e+03, 9.79179666e+02, 9.00508284e+02, 8.58718765e+02,\n",
       "       7.79081471e+02, 7.32022387e+02, 6.87809260e+02, 6.45898747e+02,\n",
       "       6.08600488e+02, 5.77136150e+02, 5.50650437e+02, 5.11831892e+02,\n",
       "       4.91418260e+02, 4.60011830e+02, 4.39397111e+02])"
      ]
     },
     "execution_count": 20,
     "metadata": {},
     "output_type": "execute_result"
    }
   ],
   "source": [
    "np.diag(var_00_172)"
   ]
  },
  {
   "cell_type": "code",
   "execution_count": 21,
   "metadata": {},
   "outputs": [],
   "source": [
    "varcosmic_mono_ = np.loadtxt('varcosmic_mono_bare.dat', skiprows=3)"
   ]
  },
  {
   "cell_type": "code",
   "execution_count": 22,
   "metadata": {},
   "outputs": [
    {
     "data": {
      "text/plain": [
       "(6679.41, 48915.38454575319)"
      ]
     },
     "execution_count": 22,
     "metadata": {},
     "output_type": "execute_result"
    }
   ],
   "source": [
    "varcosmic_mono_[1,1], var_00_172[0,0]/(2*np.pi**2)"
   ]
  },
  {
   "cell_type": "code",
   "execution_count": 23,
   "metadata": {},
   "outputs": [
    {
     "data": {
      "text/plain": [
       "(array([  0.,   4.,   8.,  12.,  16.,  20.,  24.,  28.,  32.,  36.,  40.,\n",
       "         44.,  48.,  52.,  56.,  60.,  64.,  68.,  72.,  76.,  80.,  84.,\n",
       "         88.,  92.,  96., 100., 104., 108., 112., 116., 120., 124., 128.,\n",
       "        132., 136., 140., 144., 148., 152., 156., 160., 164., 168., 172.]),\n",
       " array([  0.,   4.,   8.,  12.,  16.,  20.,  24.,  28.,  32.,  36.,  40.,\n",
       "         44.,  48.,  52.,  56.,  60.,  64.,  68.,  72.,  76.,  80.,  84.,\n",
       "         88.,  92.,  96., 100., 104., 108., 112., 116., 120., 124., 128.,\n",
       "        132., 136., 140., 144., 148., 152., 156., 160., 164., 168., 172.]))"
      ]
     },
     "execution_count": 23,
     "metadata": {},
     "output_type": "execute_result"
    }
   ],
   "source": [
    "varcosmic_mono_[0,:], varcosmic_mono_[:,0]"
   ]
  },
  {
   "cell_type": "code",
   "execution_count": 24,
   "metadata": {},
   "outputs": [
    {
     "data": {
      "text/plain": [
       "(43, 43)"
      ]
     },
     "execution_count": 24,
     "metadata": {},
     "output_type": "execute_result"
    }
   ],
   "source": [
    "varcosmic_mono = varcosmic_mono_[1:,1:]\n",
    "\n",
    "np.shape(varcosmic_mono)"
   ]
  },
  {
   "cell_type": "code",
   "execution_count": 49,
   "metadata": {},
   "outputs": [
    {
     "data": {
      "text/plain": [
       "[<matplotlib.lines.Line2D at 0x16a8817f0>]"
      ]
     },
     "execution_count": 49,
     "metadata": {},
     "output_type": "execute_result"
    },
    {
     "data": {
      "image/png": "[encoded data removed]",
      "text/plain": [
       "<Figure size 640x480 with 1 Axes>"
      ]
     },
     "metadata": {},
     "output_type": "display_data"
    }
   ],
   "source": [
    "plt.plot(d[4:], np.diag(varcosmic_mono[4:, 4:]))\n",
    "plt.plot(d[4:], np.diag(var_00_172[4:, 4:])/(2*np.pi**2))"
   ]
  },
  {
   "cell_type": "code",
   "execution_count": 50,
   "metadata": {},
   "outputs": [
    {
     "data": {
      "text/plain": [
       "[<matplotlib.lines.Line2D at 0x16a8f9c70>]"
      ]
     },
     "execution_count": 50,
     "metadata": {},
     "output_type": "execute_result"
    },
    {
     "data": {
      "image/png": "[encoded data removed]",
      "text/plain": [
       "<Figure size 640x480 with 1 Axes>"
      ]
     },
     "metadata": {},
     "output_type": "display_data"
    }
   ],
   "source": [
    "plt.plot(d[4:], np.abs((np.diag(var_00_172[4:, 4:])/(2*np.pi**2)-np.diag(varcosmic_mono[4:, 4:]))/np.diag(varcosmic_mono[4:, 4:])))"
   ]
  },
  {
   "attachments": {},
   "cell_type": "markdown",
   "metadata": {},
   "source": [
    "# Mixed terms"
   ]
  },
  {
   "cell_type": "code",
   "execution_count": 27,
   "metadata": {},
   "outputs": [
    {
     "name": "stdout",
     "output_type": "stream",
     "text": [
      "Number of data points: 10000\n"
     ]
    }
   ],
   "source": [
    "k, pk = np.loadtxt('Pkz0.0.dat', usecols=(0, 1), unpack=True)\n",
    "\n",
    "# Get the logk-spacing\n",
    "dlnk = np.log(k[1]/k[0])\n",
    "\n",
    "N = k.size\n",
    "print('Number of data points: '+str(N))\n",
    "\n",
    "ell1 = 0\n",
    "ell2 = 0\n",
    "nu = 1.01\n",
    "\n",
    "# Define the input 'kernel'. It has to be a matri: transform the pk to a diagonal matrix\n",
    "pk1k2 = np.diag(k**3 * pk / dlnk)"
   ]
  },
  {
   "cell_type": "code",
   "execution_count": 28,
   "metadata": {},
   "outputs": [
    {
     "name": "stdout",
     "output_type": "stream",
     "text": [
      "10000 10000\n",
      "(10000, 10000)\n",
      "10000 10000\n"
     ]
    }
   ],
   "source": [
    "# Define the class for spherical Bessel \n",
    "\n",
    "sph_bessel = two_sph_bessel(k, k, pk1k2, nu1=nu, nu2=nu,  N_extrap_low=0, N_extrap_high=0, c_window_width=0.25, N_pad=0)\n",
    "\n",
    "r1, r2, Fr1Fr2 = sph_bessel.two_sph_bessel(ell1, ell2)"
   ]
  },
  {
   "cell_type": "code",
   "execution_count": 29,
   "metadata": {},
   "outputs": [],
   "source": [
    "# Drop results above 200 Mpc/h\n",
    "\n",
    "criterion = r1 <= 200\n",
    "\n",
    "d1 = r1[criterion]\n",
    "d2 = r2[criterion]\n",
    "\n",
    "mixvar_00 = Fr1Fr2[:len(d1), :len(d2)]"
   ]
  },
  {
   "cell_type": "code",
   "execution_count": 30,
   "metadata": {},
   "outputs": [
    {
     "data": {
      "text/plain": [
       "(5000, 5000)"
      ]
     },
     "execution_count": 30,
     "metadata": {},
     "output_type": "execute_result"
    }
   ],
   "source": [
    "np.shape(mixvar_00)"
   ]
  },
  {
   "cell_type": "code",
   "execution_count": 31,
   "metadata": {},
   "outputs": [
    {
     "data": {
      "text/plain": [
       "(10000, 10000)"
      ]
     },
     "execution_count": 31,
     "metadata": {},
     "output_type": "execute_result"
    }
   ],
   "source": [
    "np.shape(Fr1Fr2)"
   ]
  },
  {
   "cell_type": "code",
   "execution_count": 32,
   "metadata": {},
   "outputs": [],
   "source": [
    "from scipy.interpolate import RectBivariateSpline\n",
    "\n",
    "# Create an interpolation function\n",
    "f = RectBivariateSpline(d1, d2, mixvar_00, kx=5, ky=5)\n",
    "\n",
    "# Now you can call f with new r1 and r2 values to get an interpolated Fr1r2 value\n",
    "r1_new = 20.  # replace with your desired r1 value\n",
    "r2_new = 20.  # replace with your desired r2 value\n",
    "Fr1r2_new = f(r1_new, r2_new)"
   ]
  },
  {
   "cell_type": "code",
   "execution_count": 33,
   "metadata": {},
   "outputs": [
    {
     "data": {
      "text/plain": [
       "array([[4.06297415]])"
      ]
     },
     "execution_count": 33,
     "metadata": {},
     "output_type": "execute_result"
    }
   ],
   "source": [
    "Fr1r2_new"
   ]
  },
  {
   "cell_type": "code",
   "execution_count": 34,
   "metadata": {},
   "outputs": [
    {
     "data": {
      "text/plain": [
       "5.1582701816003915"
      ]
     },
     "execution_count": 34,
     "metadata": {},
     "output_type": "execute_result"
    }
   ],
   "source": [
    "d1[325]"
   ]
  },
  {
   "cell_type": "code",
   "execution_count": 35,
   "metadata": {},
   "outputs": [
    {
     "data": {
      "text/plain": [
       "5.62474710978955"
      ]
     },
     "execution_count": 35,
     "metadata": {},
     "output_type": "execute_result"
    }
   ],
   "source": [
    "2 * mixvar_00[325, 325] / (2*np.pi**2)"
   ]
  },
  {
   "cell_type": "code",
   "execution_count": 36,
   "metadata": {},
   "outputs": [
    {
     "data": {
      "text/plain": [
       "array([  4,   8,  12,  16,  20,  24,  28,  32,  36,  40,  44,  48,  52,\n",
       "        56,  60,  64,  68,  72,  76,  80,  84,  88,  92,  96, 100, 104,\n",
       "       108, 112, 116, 120, 124, 128, 132, 136, 140, 144, 148, 152, 156,\n",
       "       160, 164, 168, 172])"
      ]
     },
     "execution_count": 36,
     "metadata": {},
     "output_type": "execute_result"
    }
   ],
   "source": [
    "d = np.arange(4, 175, 4)\n",
    "\n",
    "d"
   ]
  },
  {
   "cell_type": "code",
   "execution_count": 37,
   "metadata": {},
   "outputs": [
    {
     "data": {
      "text/plain": [
       "(array([[0.41166535]]), array([[8.58851279]]))"
      ]
     },
     "execution_count": 37,
     "metadata": {},
     "output_type": "execute_result"
    }
   ],
   "source": [
    "2 * f(20, 20) / (2*np.pi**2), 2 * f(4,4)/ (2*np.pi**2)"
   ]
  },
  {
   "cell_type": "code",
   "execution_count": 38,
   "metadata": {},
   "outputs": [],
   "source": [
    "mixvar_00_172 = f(d, d)"
   ]
  },
  {
   "cell_type": "code",
   "execution_count": 39,
   "metadata": {},
   "outputs": [
    {
     "data": {
      "text/plain": [
       "(43, 43)"
      ]
     },
     "execution_count": 39,
     "metadata": {},
     "output_type": "execute_result"
    }
   ],
   "source": [
    "np.shape(mixvar_00_172)"
   ]
  },
  {
   "cell_type": "code",
   "execution_count": 40,
   "metadata": {},
   "outputs": [
    {
     "data": {
      "text/plain": [
       "array([8.47652236e+01, 2.60318945e+01, 1.18386746e+01, 6.20378376e+00,\n",
       "       4.06297415e+00, 2.75201494e+00, 1.93583183e+00, 1.40568594e+00,\n",
       "       1.14253804e+00, 8.57534268e-01, 6.88377630e-01, 5.79060978e-01,\n",
       "       4.98748351e-01, 4.10531265e-01, 3.61924815e-01, 3.03322442e-01,\n",
       "       2.67957616e-01, 2.37930612e-01, 2.10443503e-01, 1.80200005e-01,\n",
       "       1.67274929e-01, 1.47789750e-01, 1.35679959e-01, 1.20648360e-01,\n",
       "       1.10848606e-01, 1.02296547e-01, 9.56068097e-02, 8.58923383e-02,\n",
       "       7.95992225e-02, 7.43142949e-02, 6.89487044e-02, 6.51441761e-02,\n",
       "       6.00811049e-02, 5.66890973e-02, 5.31476728e-02, 5.01094632e-02,\n",
       "       4.74468798e-02, 4.48413410e-02, 4.27580369e-02, 4.01804753e-02,\n",
       "       3.83825760e-02, 3.60895652e-02, 3.45837830e-02])"
      ]
     },
     "execution_count": 40,
     "metadata": {},
     "output_type": "execute_result"
    }
   ],
   "source": [
    "np.diag(mixvar_00_172)"
   ]
  },
  {
   "cell_type": "code",
   "execution_count": 41,
   "metadata": {},
   "outputs": [],
   "source": [
    "varmix_mono_ = np.loadtxt('varmix_mono_bare.dat', skiprows=3)"
   ]
  },
  {
   "cell_type": "code",
   "execution_count": 42,
   "metadata": {},
   "outputs": [
    {
     "data": {
      "text/plain": [
       "(5.065468, 8.588512790294397)"
      ]
     },
     "execution_count": 42,
     "metadata": {},
     "output_type": "execute_result"
    }
   ],
   "source": [
    "varmix_mono_[1,1], 2 * mixvar_00_172[0,0]/(2*np.pi**2)"
   ]
  },
  {
   "cell_type": "code",
   "execution_count": 43,
   "metadata": {},
   "outputs": [
    {
     "data": {
      "text/plain": [
       "(array([  0.,   4.,   8.,  12.,  16.,  20.,  24.,  28.,  32.,  36.,  40.,\n",
       "         44.,  48.,  52.,  56.,  60.,  64.,  68.,  72.,  76.,  80.,  84.,\n",
       "         88.,  92.,  96., 100., 104., 108., 112., 116., 120., 124., 128.,\n",
       "        132., 136., 140., 144., 148., 152., 156., 160., 164., 168., 172.]),\n",
       " array([  0.,   4.,   8.,  12.,  16.,  20.,  24.,  28.,  32.,  36.,  40.,\n",
       "         44.,  48.,  52.,  56.,  60.,  64.,  68.,  72.,  76.,  80.,  84.,\n",
       "         88.,  92.,  96., 100., 104., 108., 112., 116., 120., 124., 128.,\n",
       "        132., 136., 140., 144., 148., 152., 156., 160., 164., 168., 172.]))"
      ]
     },
     "execution_count": 43,
     "metadata": {},
     "output_type": "execute_result"
    }
   ],
   "source": [
    "varcosmic_mono_[0,:], varcosmic_mono_[:,0]"
   ]
  },
  {
   "cell_type": "code",
   "execution_count": 44,
   "metadata": {},
   "outputs": [
    {
     "data": {
      "text/plain": [
       "(43, 43)"
      ]
     },
     "execution_count": 44,
     "metadata": {},
     "output_type": "execute_result"
    }
   ],
   "source": [
    "varmix_mono = varmix_mono_[1:,1:]\n",
    "\n",
    "np.shape(varmix_mono)"
   ]
  },
  {
   "cell_type": "code",
   "execution_count": 45,
   "metadata": {},
   "outputs": [
    {
     "data": {
      "text/plain": [
       "[<matplotlib.lines.Line2D at 0x16a624100>]"
      ]
     },
     "execution_count": 45,
     "metadata": {},
     "output_type": "execute_result"
    },
    {
     "data": {
      "image/png": "[encoded data removed]",
      "text/plain": [
       "<Figure size 640x480 with 1 Axes>"
      ]
     },
     "metadata": {},
     "output_type": "display_data"
    }
   ],
   "source": [
    "plt.plot(d[4:], np.diag(varmix_mono[4:, 4:]))\n",
    "plt.plot(d[4:], 2*np.diag(mixvar_00_172[4:, 4:])/(2*np.pi**2))"
   ]
  },
  {
   "cell_type": "code",
   "execution_count": 46,
   "metadata": {},
   "outputs": [
    {
     "data": {
      "text/plain": [
       "[<matplotlib.lines.Line2D at 0x16a6f12e0>]"
      ]
     },
     "execution_count": 46,
     "metadata": {},
     "output_type": "execute_result"
    },
    {
     "data": {
      "image/png": "[encoded data removed]",
      "text/plain": [
       "<Figure size 640x480 with 1 Axes>"
      ]
     },
     "metadata": {},
     "output_type": "display_data"
    }
   ],
   "source": [
    "plt.plot(d[4:], np.abs((2*np.diag(mixvar_00_172[4:, 4:])/(2*np.pi**2)-np.diag(varmix_mono[4:, 4:]))/np.diag(varmix_mono[4:, 4:])))"
   ]
  }
 ],
 "metadata": {
  "kernelspec": {
   "display_name": "camb",
   "language": "python",
   "name": "python3"
  },
  "language_info": {
   "codemirror_mode": {
    "name": "ipython",
    "version": 3
   },
   "file_extension": ".py",
   "mimetype": "text/x-python",
   "name": "python",
   "nbconvert_exporter": "python",
   "pygments_lexer": "ipython3",
   "version": "3.9.16"
  },
  "orig_nbformat": 4
 },
 "nbformat": 4,
 "nbformat_minor": 2
}
